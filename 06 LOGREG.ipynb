{
 "cells": [
  {
   "cell_type": "markdown",
   "metadata": {},
   "source": [
    "# Logistic Regression: Analysis of German Credit Data"
   ]
  },
  {
   "cell_type": "markdown",
   "metadata": {},
   "source": [
    "**Logistic regression: ** is a regression model where the dependent variable is categorical. It is a case of a binary dependent variable, where the output can take only two values, \"0\" and \"1\", which represent outcomes such as pass/fail, win/lose, alive/dead or healthy/sick. In the terminology of economics, logistic regression is an example of a qualitative response/discrete choice model."
   ]
  },
  {
   "cell_type": "code",
   "execution_count": 1,
   "metadata": {},
   "outputs": [
    {
     "name": "stderr",
     "output_type": "stream",
     "text": [
      "C:\\Users\\rohit\\Anaconda3\\lib\\site-packages\\statsmodels\\compat\\pandas.py:56: FutureWarning: The pandas.core.datetools module is deprecated and will be removed in a future version. Please use the pandas.tseries module instead.\n",
      "  from pandas.core import datetools\n"
     ]
    }
   ],
   "source": [
    "import math\n",
    "import numpy as np\n",
    "import pandas as pd\n",
    "from datetime import datetime\n",
    "\n",
    "import seaborn as sns\n",
    "import matplotlib.pyplot as plt\n",
    "%matplotlib inline \n",
    "plt.style.use('seaborn-whitegrid')\n",
    "\n",
    "from sklearn.model_selection import train_test_split\n",
    "from sklearn.metrics import classification_report\n",
    "from sklearn.metrics import confusion_matrix\n",
    "import statsmodels.api as sm"
   ]
  },
  {
   "cell_type": "markdown",
   "metadata": {},
   "source": [
    "# Get the Data"
   ]
  },
  {
   "cell_type": "code",
   "execution_count": 2,
   "metadata": {},
   "outputs": [
    {
     "name": "stdout",
     "output_type": "stream",
     "text": [
      "<class 'pandas.core.frame.DataFrame'>\n",
      "RangeIndex: 1000 entries, 0 to 999\n",
      "Data columns (total 16 columns):\n",
      "Creditability         1000 non-null int64\n",
      "Acc_Bal_bin           1000 non-null object\n",
      "Pay_Status_bin        1000 non-null object\n",
      "Value_SavStock_bin    1000 non-null object\n",
      "Length_Emp_bin        1000 non-null object\n",
      "S&M_Status_bin        1000 non-null object\n",
      "No_of_Credits_bin     1000 non-null object\n",
      "Co_Credits_bin        1000 non-null object\n",
      "Purpose_bin           1000 non-null object\n",
      "Telephone_bin         1000 non-null object\n",
      "Instalment_bin        1000 non-null object\n",
      "Apartment_bin         1000 non-null object\n",
      "Most_Val_Asset_bin    1000 non-null object\n",
      "Duration_Credit       1000 non-null int64\n",
      "Credit_Amount         1000 non-null int64\n",
      "Age_bin               1000 non-null object\n",
      "dtypes: int64(3), object(13)\n",
      "memory usage: 125.1+ KB\n"
     ]
    }
   ],
   "source": [
    "df = pd.read_csv('00 df.csv',sep=',')\n",
    "df.info()"
   ]
  },
  {
   "cell_type": "markdown",
   "metadata": {},
   "source": [
    "# LOGREG - Building the Model"
   ]
  },
  {
   "cell_type": "code",
   "execution_count": 3,
   "metadata": {
    "collapsed": true
   },
   "outputs": [],
   "source": [
    "df.drop(['Most_Val_Asset_bin','Age_bin','No_of_Credits_bin','Instalment_bin','Credit_Amount','Telephone_bin',\n",
    "         'Co_Credits_bin','Apartment_bin'],axis=1,inplace=True)"
   ]
  },
  {
   "cell_type": "code",
   "execution_count": 4,
   "metadata": {},
   "outputs": [
    {
     "name": "stdout",
     "output_type": "stream",
     "text": [
      "<class 'pandas.core.frame.DataFrame'>\n",
      "RangeIndex: 1000 entries, 0 to 999\n",
      "Data columns (total 11 columns):\n",
      "Creditability                           1000 non-null int64\n",
      "Duration_Credit                         1000 non-null int64\n",
      "Acc_Bal_bin_b. no balance               1000 non-null uint8\n",
      "Acc_Bal_bin_c. some balance             1000 non-null uint8\n",
      "Pay_Status_bin_b. paid up               1000 non-null uint8\n",
      "Pay_Status_bin_c. no problem            1000 non-null uint8\n",
      "Value_SavStock_bin_b. >= 100 DM         1000 non-null uint8\n",
      "Length_Emp_bin_b. [1-4) years           1000 non-null uint8\n",
      "Length_Emp_bin_c. above 4 years         1000 non-null uint8\n",
      "S&M_Status_bin_b. M mar, M wid, F       1000 non-null uint8\n",
      "Purpose_bin_b. new car, home related    1000 non-null uint8\n",
      "dtypes: int64(2), uint8(9)\n",
      "memory usage: 24.5 KB\n"
     ]
    }
   ],
   "source": [
    "cat_feats = ['Acc_Bal_bin','Pay_Status_bin','Value_SavStock_bin','Length_Emp_bin','S&M_Status_bin','Purpose_bin']\n",
    "final_data = pd.get_dummies(df,columns=cat_feats,drop_first=True)\n",
    "final_data.info()"
   ]
  },
  {
   "cell_type": "code",
   "execution_count": 5,
   "metadata": {
    "collapsed": true
   },
   "outputs": [],
   "source": [
    "x = final_data.drop(['Creditability'],axis=1)\n",
    "y = final_data['Creditability']\n",
    "x_train, x_test, y_train, y_test = train_test_split(x,y,test_size=0.3, random_state=101)"
   ]
  },
  {
   "cell_type": "code",
   "execution_count": 6,
   "metadata": {
    "scrolled": false
   },
   "outputs": [
    {
     "name": "stdout",
     "output_type": "stream",
     "text": [
      "Optimization terminated successfully.\n",
      "         Current function value: 0.494550\n",
      "         Iterations 6\n"
     ]
    },
    {
     "data": {
      "text/html": [
       "<table class=\"simpletable\">\n",
       "<caption>Logit Regression Results</caption>\n",
       "<tr>\n",
       "  <th>Dep. Variable:</th>   <td>Creditability</td>  <th>  No. Observations:  </th>  <td>   700</td>  \n",
       "</tr>\n",
       "<tr>\n",
       "  <th>Model:</th>               <td>Logit</td>      <th>  Df Residuals:      </th>  <td>   689</td>  \n",
       "</tr>\n",
       "<tr>\n",
       "  <th>Method:</th>               <td>MLE</td>       <th>  Df Model:          </th>  <td>    10</td>  \n",
       "</tr>\n",
       "<tr>\n",
       "  <th>Date:</th>          <td>Wed, 13 Dec 2017</td> <th>  Pseudo R-squ.:     </th>  <td>0.1904</td>  \n",
       "</tr>\n",
       "<tr>\n",
       "  <th>Time:</th>              <td>01:28:07</td>     <th>  Log-Likelihood:    </th> <td> -346.19</td> \n",
       "</tr>\n",
       "<tr>\n",
       "  <th>converged:</th>           <td>True</td>       <th>  LL-Null:           </th> <td> -427.61</td> \n",
       "</tr>\n",
       "<tr>\n",
       "  <th> </th>                      <td> </td>        <th>  LLR p-value:       </th> <td>8.398e-30</td>\n",
       "</tr>\n",
       "</table>\n",
       "<table class=\"simpletable\">\n",
       "<tr>\n",
       "                    <td></td>                      <th>coef</th>     <th>std err</th>      <th>z</th>      <th>P>|z|</th>  <th>[0.025</th>    <th>0.975]</th>  \n",
       "</tr>\n",
       "<tr>\n",
       "  <th>const</th>                                <td>   -0.6509</td> <td>    0.403</td> <td>   -1.615</td> <td> 0.106</td> <td>   -1.441</td> <td>    0.139</td>\n",
       "</tr>\n",
       "<tr>\n",
       "  <th>Duration_Credit</th>                      <td>   -0.0452</td> <td>    0.008</td> <td>   -5.634</td> <td> 0.000</td> <td>   -0.061</td> <td>   -0.030</td>\n",
       "</tr>\n",
       "<tr>\n",
       "  <th>Acc_Bal_bin_b. no balance</th>            <td>    0.5210</td> <td>    0.230</td> <td>    2.270</td> <td> 0.023</td> <td>    0.071</td> <td>    0.971</td>\n",
       "</tr>\n",
       "<tr>\n",
       "  <th>Acc_Bal_bin_c. some balance</th>          <td>    1.3900</td> <td>    0.234</td> <td>    5.952</td> <td> 0.000</td> <td>    0.932</td> <td>    1.848</td>\n",
       "</tr>\n",
       "<tr>\n",
       "  <th>Pay_Status_bin_b. paid up</th>            <td>    0.5800</td> <td>    0.322</td> <td>    1.799</td> <td> 0.072</td> <td>   -0.052</td> <td>    1.212</td>\n",
       "</tr>\n",
       "<tr>\n",
       "  <th>Pay_Status_bin_c. no problem</th>         <td>    1.0361</td> <td>    0.336</td> <td>    3.081</td> <td> 0.002</td> <td>    0.377</td> <td>    1.695</td>\n",
       "</tr>\n",
       "<tr>\n",
       "  <th>Value_SavStock_bin_b. >= 100 DM</th>      <td>    0.9075</td> <td>    0.241</td> <td>    3.760</td> <td> 0.000</td> <td>    0.434</td> <td>    1.381</td>\n",
       "</tr>\n",
       "<tr>\n",
       "  <th>Length_Emp_bin_b. [1-4) years</th>        <td>    0.4091</td> <td>    0.237</td> <td>    1.727</td> <td> 0.084</td> <td>   -0.055</td> <td>    0.873</td>\n",
       "</tr>\n",
       "<tr>\n",
       "  <th>Length_Emp_bin_c. above 4 years</th>      <td>    0.7762</td> <td>    0.243</td> <td>    3.194</td> <td> 0.001</td> <td>    0.300</td> <td>    1.252</td>\n",
       "</tr>\n",
       "<tr>\n",
       "  <th>S&M_Status_bin_b. M mar, M wid, F</th>    <td>    0.4241</td> <td>    0.197</td> <td>    2.147</td> <td> 0.032</td> <td>    0.037</td> <td>    0.811</td>\n",
       "</tr>\n",
       "<tr>\n",
       "  <th>Purpose_bin_b. new car, home related</th> <td>    0.4483</td> <td>    0.194</td> <td>    2.308</td> <td> 0.021</td> <td>    0.068</td> <td>    0.829</td>\n",
       "</tr>\n",
       "</table>"
      ],
      "text/plain": [
       "<class 'statsmodels.iolib.summary.Summary'>\n",
       "\"\"\"\n",
       "                           Logit Regression Results                           \n",
       "==============================================================================\n",
       "Dep. Variable:          Creditability   No. Observations:                  700\n",
       "Model:                          Logit   Df Residuals:                      689\n",
       "Method:                           MLE   Df Model:                           10\n",
       "Date:                Wed, 13 Dec 2017   Pseudo R-squ.:                  0.1904\n",
       "Time:                        01:28:07   Log-Likelihood:                -346.19\n",
       "converged:                       True   LL-Null:                       -427.61\n",
       "                                        LLR p-value:                 8.398e-30\n",
       "========================================================================================================\n",
       "                                           coef    std err          z      P>|z|      [0.025      0.975]\n",
       "--------------------------------------------------------------------------------------------------------\n",
       "const                                   -0.6509      0.403     -1.615      0.106      -1.441       0.139\n",
       "Duration_Credit                         -0.0452      0.008     -5.634      0.000      -0.061      -0.030\n",
       "Acc_Bal_bin_b. no balance                0.5210      0.230      2.270      0.023       0.071       0.971\n",
       "Acc_Bal_bin_c. some balance              1.3900      0.234      5.952      0.000       0.932       1.848\n",
       "Pay_Status_bin_b. paid up                0.5800      0.322      1.799      0.072      -0.052       1.212\n",
       "Pay_Status_bin_c. no problem             1.0361      0.336      3.081      0.002       0.377       1.695\n",
       "Value_SavStock_bin_b. >= 100 DM          0.9075      0.241      3.760      0.000       0.434       1.381\n",
       "Length_Emp_bin_b. [1-4) years            0.4091      0.237      1.727      0.084      -0.055       0.873\n",
       "Length_Emp_bin_c. above 4 years          0.7762      0.243      3.194      0.001       0.300       1.252\n",
       "S&M_Status_bin_b. M mar, M wid, F        0.4241      0.197      2.147      0.032       0.037       0.811\n",
       "Purpose_bin_b. new car, home related     0.4483      0.194      2.308      0.021       0.068       0.829\n",
       "========================================================================================================\n",
       "\"\"\""
      ]
     },
     "execution_count": 6,
     "metadata": {},
     "output_type": "execute_result"
    }
   ],
   "source": [
    "x_train = sm.add_constant(x_train).copy()\n",
    "logit = sm.Logit(y_train, x_train)\n",
    "model = logit.fit()\n",
    "model.summary()"
   ]
  },
  {
   "cell_type": "markdown",
   "metadata": {},
   "source": [
    "# LOGREG - Predictions and Evaluation"
   ]
  },
  {
   "cell_type": "code",
   "execution_count": 10,
   "metadata": {},
   "outputs": [],
   "source": [
    "x_test = sm.add_constant(x_test).copy()\n",
    "y_pred = model.predict(x_test)\n",
    "\n",
    "x_test = x_test.reset_index(drop=True)\n",
    "y_test = y_test.reset_index(drop=True)\n",
    "test_calc = pd.concat([x_test,y_test,pd.DataFrame(y_pred)],axis=1)\n",
    "test_calc.rename(columns={0: 'predicted'}, inplace=True)"
   ]
  },
  {
   "cell_type": "code",
   "execution_count": 11,
   "metadata": {},
   "outputs": [
    {
     "name": "stdout",
     "output_type": "stream",
     "text": [
      "max f:  0.55\n",
      "max a:  0.55\n"
     ]
    },
    {
     "data": {
      "image/png": "[encoded data removed]",
      "text/plain": [
       "<matplotlib.figure.Figure at 0x28533fcd6a0>"
      ]
     },
     "metadata": {},
     "output_type": "display_data"
    }
   ],
   "source": [
    "c = [0.15,0.2,0.25,0.3,0.35,0.4,0.45,0.5,0.55,0.6,0.65,0.7,0.75,0.8,0.85]\n",
    "a = [0.15,0.2,0.25,0.3,0.35,0.4,0.45,0.5,0.55,0.6,0.65,0.7,0.75,0.8,0.85]\n",
    "p = [0.15,0.2,0.25,0.3,0.35,0.4,0.45,0.5,0.55,0.6,0.65,0.7,0.75,0.8,0.85]\n",
    "r = [0.15,0.2,0.25,0.3,0.35,0.4,0.45,0.5,0.55,0.6,0.65,0.7,0.75,0.8,0.85]\n",
    "f = [0.15,0.2,0.25,0.3,0.35,0.4,0.45,0.5,0.55,0.6,0.65,0.7,0.75,0.8,0.85]\n",
    "i = 0\n",
    "\n",
    "for j in c:\n",
    "    def flag(cols):\n",
    "        x = cols[0]\n",
    "        j = cols[1]\n",
    "        if x > j: return 1\n",
    "        else: return 0\n",
    "    test_calc['j']=j\n",
    "    test_calc['flag'] = test_calc[['predicted','j']].apply(flag,axis=1)\n",
    "    df_table = confusion_matrix(test_calc['Creditability'],test_calc['flag'])\n",
    "    a[i] = (df_table[0,0] + df_table[1,1]) / (df_table[0,0] + df_table[0,1] + df_table[1,0] + df_table[1,1])\n",
    "    p[i] = df_table[1,1] / (df_table[1,1] + df_table[0,1])\n",
    "    r[i] = df_table[1,1] / (df_table[1,1] + df_table[1,0])\n",
    "    f[i] = (2 * p[i] * r[i]) / (p[i] + r[i])\n",
    "    i = i+1\n",
    "\n",
    "df_decision = pd.concat([pd.DataFrame(c),pd.DataFrame(a),pd.DataFrame(p),pd.DataFrame(r),pd.DataFrame(f)],axis=1)\n",
    "df_decision.columns = ['c','a','p','r','f']\n",
    "\n",
    "f_max = df_decision[df_decision['f']==df_decision['f'].max()].head(1)\n",
    "max_f = float(f_max['c'])\n",
    "a_max = df_decision[df_decision['a']==df_decision['a'].max()].head(1)\n",
    "max_a = float(a_max['c'])\n",
    "\n",
    "df_decision.plot(x='c',y=['f','a'],marker=\"o\")\n",
    "\n",
    "print (\"max f: \",max_f)\n",
    "print (\"max a: \",max_a)"
   ]
  },
  {
   "cell_type": "code",
   "execution_count": 18,
   "metadata": {},
   "outputs": [
    {
     "name": "stdout",
     "output_type": "stream",
     "text": [
      "\u001b[1m\u001b[4maccuracy\u001b[0m\n",
      "76.67 %\n",
      "\n",
      "\n",
      "\u001b[1m\u001b[4mclassification_report\u001b[0m\n",
      "             precision    recall  f1-score   support\n",
      "\n",
      "          0       0.63      0.53      0.58        90\n",
      "          1       0.81      0.87      0.84       210\n",
      "\n",
      "avg / total       0.76      0.77      0.76       300\n",
      "\n",
      "\n",
      "\n",
      "\u001b[1m\u001b[4mconfusion_matrix\u001b[0m\n",
      "[[ 48  42]\n",
      " [ 28 182]]\n"
     ]
    }
   ],
   "source": [
    "y_pred = model.predict(x_test)\n",
    "test_calc = pd.concat([pd.DataFrame(y_test),pd.DataFrame(y_pred)],axis=1)\n",
    "test_calc.rename(columns={0: 'predicted'}, inplace=True)\n",
    "test_calc['predicted'] = test_calc['predicted'].apply(lambda x: 1 if x > 0.55 else 0)\n",
    "\n",
    "print('\\033[1m' + '\\033[4m' + 'accuracy' + '\\033[0m')\n",
    "print(round(np.mean(test_calc['Creditability']==test_calc['predicted'])*100,2),\"%\")\n",
    "print('\\n')\n",
    "print('\\033[1m' + '\\033[4m' + 'classification_report' + '\\033[0m')\n",
    "print(classification_report(test_calc['Creditability'],test_calc['predicted']))\n",
    "print('\\n')\n",
    "print('\\033[1m' + '\\033[4m' + 'confusion_matrix' + '\\033[0m')\n",
    "print(confusion_matrix(test_calc['Creditability'],test_calc['predicted']))"
   ]
  },
  {
   "cell_type": "markdown",
   "metadata": {
    "collapsed": true
   },
   "source": [
    "# Cost-Profit Consideration"
   ]
  },
  {
   "cell_type": "markdown",
   "metadata": {},
   "source": [
    "###### Ultimately these statistical decisions must be translated into profit consideration for the bank. Let us assume that a correct decision of the bank would result in 35% profit at the end of 5 years. A correct decision here means that the bank predicts an application to be good or credit-worthy and it actually turns out to be credit worthy. When the opposite is true, i.e. bank predicts the application to be good but it turns out to be bad credit, then the loss is 100%. If the bank predicts an application to be non-creditworthy, then loan facility is not extended to that applicant and bank does not incur any loss (opportunity loss is not considered here). The cost matrix, therefore, is as follows:"
   ]
  },
  {
   "attachments": {
    "cost_matrix.png": {
     "image/png": "[encoded data removed]"
    }
   },
   "cell_type": "markdown",
   "metadata": {},
   "source": [
    "![cost_matrix.png](attachment:cost_matrix.png)"
   ]
  },
  {
   "cell_type": "code",
   "execution_count": 19,
   "metadata": {},
   "outputs": [
    {
     "name": "stdout",
     "output_type": "stream",
     "text": [
      "profit:  21.7\n"
     ]
    }
   ],
   "source": [
    "df_table = confusion_matrix(test_calc['Creditability'],test_calc['predicted'])\n",
    "anc_pnc = df_table[0,0]\n",
    "anc_pc = df_table[0,1]\n",
    "ac_pnc = df_table[1,0]\n",
    "ac_pc = df_table[1,1]\n",
    "\n",
    "print(\"profit: \",(-1 * anc_pc + 0.35 * ac_pc))"
   ]
  }
 ],
 "metadata": {
  "kernelspec": {
   "display_name": "Python 3",
   "language": "python",
   "name": "python3"
  },
  "language_info": {
   "codemirror_mode": {
    "name": "ipython",
    "version": 3
   },
   "file_extension": ".py",
   "mimetype": "text/x-python",
   "name": "python",
   "nbconvert_exporter": "python",
   "pygments_lexer": "ipython3",
   "version": "3.6.2"
  }
 },
 "nbformat": 4,
 "nbformat_minor": 2
}
