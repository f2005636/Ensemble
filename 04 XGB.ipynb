{
 "cells": [
  {
   "cell_type": "markdown",
   "metadata": {},
   "source": [
    "# Gradient Boosting: Analysis of German Credit Data"
   ]
  },
  {
   "cell_type": "markdown",
   "metadata": {},
   "source": [
    "**Gradient boosting: **is a machine learning technique for regression and classification problems, which produces a prediction model in the form of an ensemble of weak prediction models, typically decision trees. It builds the model in a stage-wise fashion like other boosting methods do, and it generalizes them by allowing optimization of an arbitrary differentiable loss function."
   ]
  },
  {
   "cell_type": "code",
   "execution_count": 1,
   "metadata": {},
   "outputs": [
    {
     "name": "stderr",
     "output_type": "stream",
     "text": [
      "C:\\Users\\rohit\\Anaconda3\\lib\\site-packages\\sklearn\\cross_validation.py:41: DeprecationWarning: This module was deprecated in version 0.18 in favor of the model_selection module into which all the refactored classes and functions are moved. Also note that the interface of the new CV iterators are different from that of this module. This module will be removed in 0.20.\n",
      "  \"This module will be removed in 0.20.\", DeprecationWarning)\n"
     ]
    }
   ],
   "source": [
    "import math\n",
    "import numpy as np\n",
    "import pandas as pd\n",
    "from datetime import datetime\n",
    "\n",
    "import seaborn as sns\n",
    "import matplotlib.pyplot as plt\n",
    "%matplotlib inline \n",
    "plt.style.use('seaborn-whitegrid')\n",
    "\n",
    "from sklearn.model_selection import train_test_split\n",
    "from sklearn.metrics import classification_report\n",
    "from sklearn.metrics import confusion_matrix\n",
    "from xgboost import XGBClassifier"
   ]
  },
  {
   "cell_type": "markdown",
   "metadata": {},
   "source": [
    "# Get the Data"
   ]
  },
  {
   "cell_type": "code",
   "execution_count": 2,
   "metadata": {},
   "outputs": [
    {
     "name": "stdout",
     "output_type": "stream",
     "text": [
      "<class 'pandas.core.frame.DataFrame'>\n",
      "RangeIndex: 1000 entries, 0 to 999\n",
      "Data columns (total 16 columns):\n",
      "Creditability         1000 non-null int64\n",
      "Acc_Bal_bin           1000 non-null object\n",
      "Pay_Status_bin        1000 non-null object\n",
      "Value_SavStock_bin    1000 non-null object\n",
      "Length_Emp_bin        1000 non-null object\n",
      "S&M_Status_bin        1000 non-null object\n",
      "No_of_Credits_bin     1000 non-null object\n",
      "Co_Credits_bin        1000 non-null object\n",
      "Purpose_bin           1000 non-null object\n",
      "Telephone_bin         1000 non-null object\n",
      "Instalment_bin        1000 non-null object\n",
      "Apartment_bin         1000 non-null object\n",
      "Most_Val_Asset_bin    1000 non-null object\n",
      "Duration_Credit       1000 non-null int64\n",
      "Credit_Amount         1000 non-null int64\n",
      "Age_bin               1000 non-null object\n",
      "dtypes: int64(3), object(13)\n",
      "memory usage: 125.1+ KB\n"
     ]
    }
   ],
   "source": [
    "df = pd.read_csv('00 df.csv',sep=',')\n",
    "df.info()"
   ]
  },
  {
   "cell_type": "markdown",
   "metadata": {},
   "source": [
    "# XGB - Building the Model"
   ]
  },
  {
   "cell_type": "code",
   "execution_count": 3,
   "metadata": {},
   "outputs": [
    {
     "name": "stdout",
     "output_type": "stream",
     "text": [
      "<class 'pandas.core.frame.DataFrame'>\n",
      "RangeIndex: 1000 entries, 0 to 999\n",
      "Data columns (total 22 columns):\n",
      "Creditability                                  1000 non-null int64\n",
      "Duration_Credit                                1000 non-null int64\n",
      "Credit_Amount                                  1000 non-null int64\n",
      "Acc_Bal_bin_b. no balance                      1000 non-null uint8\n",
      "Acc_Bal_bin_c. some balance                    1000 non-null uint8\n",
      "Pay_Status_bin_b. paid up                      1000 non-null uint8\n",
      "Pay_Status_bin_c. no problem                   1000 non-null uint8\n",
      "Value_SavStock_bin_b. >= 100 DM                1000 non-null uint8\n",
      "Length_Emp_bin_b. [1-4) years                  1000 non-null uint8\n",
      "Length_Emp_bin_c. above 4 years                1000 non-null uint8\n",
      "S&M_Status_bin_b. M mar, M wid, F              1000 non-null uint8\n",
      "No_of_Credits_bin_b. > 1                       1000 non-null uint8\n",
      "Co_Credits_bin_b. None                         1000 non-null uint8\n",
      "Purpose_bin_b. new car, home related           1000 non-null uint8\n",
      "Telephone_bin_b. Yes                           1000 non-null uint8\n",
      "Instalment_bin_b. [20-25)                      1000 non-null uint8\n",
      "Instalment_bin_c. [25-35)                      1000 non-null uint8\n",
      "Instalment_bin_d. >= 35                        1000 non-null uint8\n",
      "Apartment_bin_b. rented flat                   1000 non-null uint8\n",
      "Most_Val_Asset_bin_b. Savings / Car / Other    1000 non-null uint8\n",
      "Most_Val_Asset_bin_c. No assets                1000 non-null uint8\n",
      "Age_bin_b. >= 25 yr                            1000 non-null uint8\n",
      "dtypes: int64(3), uint8(19)\n",
      "memory usage: 42.1 KB\n"
     ]
    }
   ],
   "source": [
    "cat_feats = ['Acc_Bal_bin','Pay_Status_bin','Value_SavStock_bin','Length_Emp_bin','S&M_Status_bin','No_of_Credits_bin',\n",
    "             'Co_Credits_bin','Purpose_bin','Telephone_bin','Instalment_bin','Apartment_bin','Most_Val_Asset_bin','Age_bin']\n",
    "final_data = pd.get_dummies(df,columns=cat_feats,drop_first=True)\n",
    "final_data.info()"
   ]
  },
  {
   "cell_type": "code",
   "execution_count": 4,
   "metadata": {
    "collapsed": true
   },
   "outputs": [],
   "source": [
    "final_data.columns = ['Creditability','Duration_Credit','Credit_Amount','Acc_Bal_bin_b_no_balance',\n",
    "                      'Acc_Bal_bin_c_some_balance','Pay_Status_bin_b_paid_up','Pay_Status_bin_c_no_problem',\n",
    "                      'Value_SavStock_bin_b_100_DM','Length_Emp_bin_b_1_4_years','Length_Emp_bin_c_above_4_years',\n",
    "                      'S&M_Status_bin_b_M_mar_M_wid_F','No_of_Credits_bin_b_1','Co_Credits_bin_b_None',\n",
    "                      'Purpose_bin_b_new_car_home_related','Telephone_bin_b_Yes','Instalment_bin_b_20_25_',\n",
    "                      'Instalment_bin_c_25_35_','Instalment_bin_d_35','Apartment_bin_b_rented_flat',\n",
    "                      'Most_Val_Asset_bin_b_Savings_Car_Other','Most_Val_Asset_bin_c_No_assets','Age_bin_b_25_yr']"
   ]
  },
  {
   "cell_type": "code",
   "execution_count": 5,
   "metadata": {
    "collapsed": true
   },
   "outputs": [],
   "source": [
    "x = final_data.drop(['Creditability'],axis=1)\n",
    "y = final_data['Creditability']\n",
    "x_train, x_test, y_train, y_test = train_test_split(x,y,test_size=0.3, random_state=101)"
   ]
  },
  {
   "cell_type": "code",
   "execution_count": 6,
   "metadata": {},
   "outputs": [
    {
     "data": {
      "text/plain": [
       "<matplotlib.axes._subplots.AxesSubplot at 0x1de0d91e438>"
      ]
     },
     "execution_count": 6,
     "metadata": {},
     "output_type": "execute_result"
    },
    {
     "data": {
      "image/png": "[encoded data removed]",
      "text/plain": [
       "<matplotlib.figure.Figure at 0x1de0e100dd8>"
      ]
     },
     "metadata": {},
     "output_type": "display_data"
    }
   ],
   "source": [
    "results = []\n",
    "n_estimaor_options = [20,25,30,35,40,45,50,55,60,65,70,75,80,85,90,95,100]\n",
    "for trees in n_estimaor_options:\n",
    "    model = XGBClassifier(objective='binary:logistic', n_estimators=trees, seed=101)\n",
    "    model.fit(x_train, y_train)\n",
    "    y_pred = model.predict(x_test)\n",
    "    accuracy = np.mean(y_test==y_pred)\n",
    "    results.append(accuracy)\n",
    "\n",
    "plt.figure(figsize=(8,4))\n",
    "pd.Series(results, n_estimaor_options).plot(color=\"darkred\",marker=\"o\")"
   ]
  },
  {
   "cell_type": "code",
   "execution_count": 7,
   "metadata": {},
   "outputs": [
    {
     "data": {
      "text/plain": [
       "<matplotlib.axes._subplots.AxesSubplot at 0x1de0ddb3e48>"
      ]
     },
     "execution_count": 7,
     "metadata": {},
     "output_type": "execute_result"
    },
    {
     "data": {
      "image/png": "[encoded data removed]",
      "text/plain": [
       "<matplotlib.figure.Figure at 0x1de0ddd1048>"
      ]
     },
     "metadata": {},
     "output_type": "display_data"
    }
   ],
   "source": [
    "results = []\n",
    "n_max_depth = [2,4,6,8,10,12,14,16,18,20]\n",
    "for trees in n_estimaor_options:\n",
    "    model = XGBClassifier(objective='binary:logistic', n_estimators=70, max_depth = trees, seed=101)\n",
    "    model.fit(x_train, y_train)\n",
    "    y_pred = model.predict(x_test)\n",
    "    accuracy = np.mean(y_test==y_pred)\n",
    "    results.append(accuracy)\n",
    "\n",
    "plt.figure(figsize=(8,4))\n",
    "pd.Series(results, n_estimaor_options).plot(color=\"darkred\",marker=\"o\")"
   ]
  },
  {
   "cell_type": "markdown",
   "metadata": {},
   "source": [
    "# RF - Predictions and Evaluation"
   ]
  },
  {
   "cell_type": "code",
   "execution_count": 8,
   "metadata": {},
   "outputs": [
    {
     "data": {
      "text/plain": [
       "XGBClassifier(base_score=0.5, colsample_bylevel=1, colsample_bytree=1,\n",
       "       gamma=0, learning_rate=0.1, max_delta_step=0, max_depth=3,\n",
       "       min_child_weight=1, missing=None, n_estimators=70, nthread=-1,\n",
       "       objective='binary:logistic', reg_alpha=0, reg_lambda=1,\n",
       "       scale_pos_weight=1, seed=101, silent=True, subsample=1)"
      ]
     },
     "execution_count": 8,
     "metadata": {},
     "output_type": "execute_result"
    }
   ],
   "source": [
    "xgb = XGBClassifier(objective='binary:logistic', n_estimators=70, seed=101)\n",
    "xgb.fit(x_train, y_train)"
   ]
  },
  {
   "cell_type": "code",
   "execution_count": 9,
   "metadata": {
    "collapsed": true
   },
   "outputs": [],
   "source": [
    "predicted = xgb.predict_proba(x_test)\n",
    "x_test = x_test.reset_index(drop=True)\n",
    "y_test = y_test.reset_index(drop=True)\n",
    "test_calc = pd.concat([x_test,y_test,pd.DataFrame(predicted)],axis=1)\n",
    "test_calc.rename(columns={1: 'predicted'}, inplace=True)"
   ]
  },
  {
   "cell_type": "code",
   "execution_count": 10,
   "metadata": {},
   "outputs": [
    {
     "name": "stdout",
     "output_type": "stream",
     "text": [
      "max f:  0.5\n",
      "max a:  0.55\n"
     ]
    },
    {
     "data": {
      "image/png": "[encoded data removed]",
      "text/plain": [
       "<matplotlib.figure.Figure at 0x1de0deaad30>"
      ]
     },
     "metadata": {},
     "output_type": "display_data"
    }
   ],
   "source": [
    "c = [0.15,0.2,0.25,0.3,0.35,0.4,0.45,0.5,0.55,0.6,0.65,0.7,0.75,0.8,0.85]\n",
    "a = [0.15,0.2,0.25,0.3,0.35,0.4,0.45,0.5,0.55,0.6,0.65,0.7,0.75,0.8,0.85]\n",
    "p = [0.15,0.2,0.25,0.3,0.35,0.4,0.45,0.5,0.55,0.6,0.65,0.7,0.75,0.8,0.85]\n",
    "r = [0.15,0.2,0.25,0.3,0.35,0.4,0.45,0.5,0.55,0.6,0.65,0.7,0.75,0.8,0.85]\n",
    "f = [0.15,0.2,0.25,0.3,0.35,0.4,0.45,0.5,0.55,0.6,0.65,0.7,0.75,0.8,0.85]\n",
    "i = 0\n",
    "\n",
    "for j in c:\n",
    "    def flag(cols):\n",
    "        x = cols[0]\n",
    "        j = cols[1]\n",
    "        if x > j: return 1\n",
    "        else: return 0\n",
    "    test_calc['j']=j\n",
    "    test_calc['flag'] = test_calc[['predicted','j']].apply(flag,axis=1)\n",
    "    df_table = confusion_matrix(test_calc['Creditability'],test_calc['flag'])\n",
    "    a[i] = (df_table[0,0] + df_table[1,1]) / (df_table[0,0] + df_table[0,1] + df_table[1,0] + df_table[1,1])\n",
    "    p[i] = df_table[1,1] / (df_table[1,1] + df_table[0,1])\n",
    "    r[i] = df_table[1,1] / (df_table[1,1] + df_table[1,0])\n",
    "    f[i] = (2 * p[i] * r[i]) / (p[i] + r[i])\n",
    "    i = i+1\n",
    "\n",
    "df_decision = pd.concat([pd.DataFrame(c),pd.DataFrame(a),pd.DataFrame(p),pd.DataFrame(r),pd.DataFrame(f)],axis=1)\n",
    "df_decision.columns = ['c','a','p','r','f']\n",
    "\n",
    "f_max = df_decision[df_decision['f']==df_decision['f'].max()].head(1)\n",
    "max_f = float(f_max['c'])\n",
    "a_max = df_decision[df_decision['a']==df_decision['a'].max()].head(1)\n",
    "max_a = float(a_max['c'])\n",
    "\n",
    "df_decision.plot(x='c',y=['f','a'],marker=\"o\")\n",
    "\n",
    "print (\"max f: \",max_f)\n",
    "print (\"max a: \",max_a)"
   ]
  },
  {
   "cell_type": "code",
   "execution_count": 15,
   "metadata": {},
   "outputs": [
    {
     "name": "stdout",
     "output_type": "stream",
     "text": [
      "\u001b[1m\u001b[4maccuracy\u001b[0m\n",
      "78.67 %\n",
      "\n",
      "\n",
      "\u001b[1m\u001b[4mclassification_report\u001b[0m\n",
      "             precision    recall  f1-score   support\n",
      "\n",
      "          0       0.68      0.56      0.61        90\n",
      "          1       0.82      0.89      0.85       210\n",
      "\n",
      "avg / total       0.78      0.79      0.78       300\n",
      "\n",
      "\n",
      "\n",
      "\u001b[1m\u001b[4mconfusion_matrix\u001b[0m\n",
      "[[ 50  40]\n",
      " [ 24 186]]\n"
     ]
    }
   ],
   "source": [
    "y_pred = xgb.predict_proba(x_test)\n",
    "test_calc = pd.concat([pd.DataFrame(y_test),pd.DataFrame(y_pred)],axis=1)\n",
    "test_calc.rename(columns={1: 'predicted'}, inplace=True)\n",
    "test_calc['predicted'] = test_calc['predicted'].apply(lambda x: 1 if x > 0.55 else 0)\n",
    "\n",
    "print('\\033[1m' + '\\033[4m' + 'accuracy' + '\\033[0m')\n",
    "print(round(np.mean(test_calc['Creditability']==test_calc['predicted'])*100,2),\"%\")\n",
    "print('\\n')\n",
    "print('\\033[1m' + '\\033[4m' + 'classification_report' + '\\033[0m')\n",
    "print(classification_report(test_calc['Creditability'],test_calc['predicted']))\n",
    "print('\\n')\n",
    "print('\\033[1m' + '\\033[4m' + 'confusion_matrix' + '\\033[0m')\n",
    "print(confusion_matrix(test_calc['Creditability'],test_calc['predicted']))"
   ]
  },
  {
   "cell_type": "markdown",
   "metadata": {},
   "source": [
    "# Cost-Profit Consideration"
   ]
  },
  {
   "cell_type": "markdown",
   "metadata": {},
   "source": [
    "###### Ultimately these statistical decisions must be translated into profit consideration for the bank. Let us assume that a correct decision of the bank would result in 35% profit at the end of 5 years. A correct decision here means that the bank predicts an application to be good or credit-worthy and it actually turns out to be credit worthy. When the opposite is true, i.e. bank predicts the application to be good but it turns out to be bad credit, then the loss is 100%. If the bank predicts an application to be non-creditworthy, then loan facility is not extended to that applicant and bank does not incur any loss (opportunity loss is not considered here). The cost matrix, therefore, is as follows:"
   ]
  },
  {
   "attachments": {
    "10%20cost_matrix.png": {
     "image/png": "[encoded data removed]"
    }
   },
   "cell_type": "markdown",
   "metadata": {},
   "source": [
    "![10%20cost_matrix.png](attachment:10%20cost_matrix.png)"
   ]
  },
  {
   "cell_type": "code",
   "execution_count": 16,
   "metadata": {},
   "outputs": [
    {
     "name": "stdout",
     "output_type": "stream",
     "text": [
      "profit:  25.1\n"
     ]
    }
   ],
   "source": [
    "df_table = confusion_matrix(test_calc['Creditability'],test_calc['predicted'])\n",
    "anc_pnc = df_table[0,0]\n",
    "anc_pc = df_table[0,1]\n",
    "ac_pnc = df_table[1,0]\n",
    "ac_pc = df_table[1,1]\n",
    "\n",
    "print(\"profit: \",(-1 * anc_pc + 0.35 * ac_pc))"
   ]
  }
 ],
 "metadata": {
  "kernelspec": {
   "display_name": "Python 3",
   "language": "python",
   "name": "python3"
  },
  "language_info": {
   "codemirror_mode": {
    "name": "ipython",
    "version": 3
   },
   "file_extension": ".py",
   "mimetype": "text/x-python",
   "name": "python",
   "nbconvert_exporter": "python",
   "pygments_lexer": "ipython3",
   "version": "3.6.2"
  }
 },
 "nbformat": 4,
 "nbformat_minor": 2
}
